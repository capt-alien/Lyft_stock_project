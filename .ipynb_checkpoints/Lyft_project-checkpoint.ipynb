{
 "cells": [
  {
   "cell_type": "code",
   "execution_count": 1,
   "metadata": {},
   "outputs": [],
   "source": [
    "import quandl\n",
    "import datetime\n",
    "import cpi\n",
    "from matplotlib import style\n",
    "# from sklearn.svm import ???"
   ]
  },
  {
   "cell_type": "code",
   "execution_count": 2,
   "metadata": {},
   "outputs": [],
   "source": [
    "import math\n",
    "import numpy as np\n",
    "import pandas as pd\n",
    "import matplotlib.pyplot as plt\n",
    "\n",
    "from sklearn.preprocessing import scale\n",
    "from sklearn.model_selection import train_test_split, cross_val_score, cross_validate\n",
    "from sklearn.linear_model import LinearRegression"
   ]
  },
  {
   "cell_type": "markdown",
   "metadata": {},
   "source": [
    "## WARNING!\n",
    "\n",
    "`cpi.update()` is a heavy function that updates the entire CPI package and is very bloaty and unnecessary! \n",
    "\n",
    "**Uncomment and run if absolutely needed!**"
   ]
  },
  {
   "cell_type": "code",
   "execution_count": 3,
   "metadata": {},
   "outputs": [],
   "source": [
    "# cpi.update()"
   ]
  },
  {
   "cell_type": "code",
   "execution_count": 4,
   "metadata": {},
   "outputs": [
    {
     "data": {
      "text/plain": [
       "'qrznzr7vcG1HMd7ae2E7'"
      ]
     },
     "execution_count": 4,
     "metadata": {},
     "output_type": "execute_result"
    }
   ],
   "source": [
    "#import API key\n",
    "from SECRET_KEY import quandel_key\n",
    "quandel_key"
   ]
  },
  {
   "cell_type": "code",
   "execution_count": 5,
   "metadata": {},
   "outputs": [],
   "source": [
    "style.use('ggplot')"
   ]
  },
  {
   "cell_type": "code",
   "execution_count": 100,
   "metadata": {},
   "outputs": [
    {
     "data": {
      "text/html": [
       "<div>\n",
       "<style scoped>\n",
       "    .dataframe tbody tr th:only-of-type {\n",
       "        vertical-align: middle;\n",
       "    }\n",
       "\n",
       "    .dataframe tbody tr th {\n",
       "        vertical-align: top;\n",
       "    }\n",
       "\n",
       "    .dataframe thead th {\n",
       "        text-align: right;\n",
       "    }\n",
       "</style>\n",
       "<table border=\"1\" class=\"dataframe\">\n",
       "  <thead>\n",
       "    <tr style=\"text-align: right;\">\n",
       "      <th></th>\n",
       "      <th>Open</th>\n",
       "      <th>High</th>\n",
       "      <th>Low</th>\n",
       "      <th>Close</th>\n",
       "      <th>Volume</th>\n",
       "      <th>Ex-Dividend</th>\n",
       "      <th>Split Ratio</th>\n",
       "      <th>Adj. Open</th>\n",
       "      <th>Adj. High</th>\n",
       "      <th>Adj. Low</th>\n",
       "      <th>Adj. Close</th>\n",
       "      <th>Adj. Volume</th>\n",
       "    </tr>\n",
       "    <tr>\n",
       "      <th>Date</th>\n",
       "      <th></th>\n",
       "      <th></th>\n",
       "      <th></th>\n",
       "      <th></th>\n",
       "      <th></th>\n",
       "      <th></th>\n",
       "      <th></th>\n",
       "      <th></th>\n",
       "      <th></th>\n",
       "      <th></th>\n",
       "      <th></th>\n",
       "      <th></th>\n",
       "    </tr>\n",
       "  </thead>\n",
       "  <tbody>\n",
       "    <tr>\n",
       "      <th>1970-01-02</th>\n",
       "      <td>61.75</td>\n",
       "      <td>62.00</td>\n",
       "      <td>61.62</td>\n",
       "      <td>62.00</td>\n",
       "      <td>36700.0</td>\n",
       "      <td>0.0</td>\n",
       "      <td>1.0</td>\n",
       "      <td>0.740936</td>\n",
       "      <td>0.743936</td>\n",
       "      <td>0.739376</td>\n",
       "      <td>0.743936</td>\n",
       "      <td>1174400.0</td>\n",
       "    </tr>\n",
       "    <tr>\n",
       "      <th>1970-01-05</th>\n",
       "      <td>62.00</td>\n",
       "      <td>63.00</td>\n",
       "      <td>61.87</td>\n",
       "      <td>63.00</td>\n",
       "      <td>58800.0</td>\n",
       "      <td>0.0</td>\n",
       "      <td>1.0</td>\n",
       "      <td>0.743936</td>\n",
       "      <td>0.755935</td>\n",
       "      <td>0.742376</td>\n",
       "      <td>0.755935</td>\n",
       "      <td>1881600.0</td>\n",
       "    </tr>\n",
       "    <tr>\n",
       "      <th>1970-01-06</th>\n",
       "      <td>63.00</td>\n",
       "      <td>63.13</td>\n",
       "      <td>62.25</td>\n",
       "      <td>62.87</td>\n",
       "      <td>38500.0</td>\n",
       "      <td>0.0</td>\n",
       "      <td>1.0</td>\n",
       "      <td>0.755935</td>\n",
       "      <td>0.757495</td>\n",
       "      <td>0.746936</td>\n",
       "      <td>0.754375</td>\n",
       "      <td>1232000.0</td>\n",
       "    </tr>\n",
       "    <tr>\n",
       "      <th>1970-01-07</th>\n",
       "      <td>62.87</td>\n",
       "      <td>62.87</td>\n",
       "      <td>62.38</td>\n",
       "      <td>62.50</td>\n",
       "      <td>28700.0</td>\n",
       "      <td>0.0</td>\n",
       "      <td>1.0</td>\n",
       "      <td>0.754375</td>\n",
       "      <td>0.754375</td>\n",
       "      <td>0.748496</td>\n",
       "      <td>0.749935</td>\n",
       "      <td>918400.0</td>\n",
       "    </tr>\n",
       "    <tr>\n",
       "      <th>1970-01-08</th>\n",
       "      <td>62.50</td>\n",
       "      <td>63.00</td>\n",
       "      <td>62.25</td>\n",
       "      <td>62.62</td>\n",
       "      <td>33600.0</td>\n",
       "      <td>0.0</td>\n",
       "      <td>1.0</td>\n",
       "      <td>0.749935</td>\n",
       "      <td>0.755935</td>\n",
       "      <td>0.746936</td>\n",
       "      <td>0.751375</td>\n",
       "      <td>1075200.0</td>\n",
       "    </tr>\n",
       "  </tbody>\n",
       "</table>\n",
       "</div>"
      ],
      "text/plain": [
       "             Open   High    Low  Close   Volume  Ex-Dividend  Split Ratio  \\\n",
       "Date                                                                        \n",
       "1970-01-02  61.75  62.00  61.62  62.00  36700.0          0.0          1.0   \n",
       "1970-01-05  62.00  63.00  61.87  63.00  58800.0          0.0          1.0   \n",
       "1970-01-06  63.00  63.13  62.25  62.87  38500.0          0.0          1.0   \n",
       "1970-01-07  62.87  62.87  62.38  62.50  28700.0          0.0          1.0   \n",
       "1970-01-08  62.50  63.00  62.25  62.62  33600.0          0.0          1.0   \n",
       "\n",
       "            Adj. Open  Adj. High  Adj. Low  Adj. Close  Adj. Volume  \n",
       "Date                                                                 \n",
       "1970-01-02   0.740936   0.743936  0.739376    0.743936    1174400.0  \n",
       "1970-01-05   0.743936   0.755935  0.742376    0.755935    1881600.0  \n",
       "1970-01-06   0.755935   0.757495  0.746936    0.754375    1232000.0  \n",
       "1970-01-07   0.754375   0.754375  0.748496    0.749935     918400.0  \n",
       "1970-01-08   0.749935   0.755935  0.746936    0.751375    1075200.0  "
      ]
     },
     "execution_count": 100,
     "metadata": {},
     "output_type": "execute_result"
    }
   ],
   "source": [
    "df = quandl.get(\"WIKI/XOM\", api_key=quandel_key)\n",
    "\n",
    "df.head()"
   ]
  },
  {
   "cell_type": "code",
   "execution_count": 101,
   "metadata": {},
   "outputs": [],
   "source": [
    "df = df[['Adj. Open',  'Adj. High',  'Adj. Low',  'Adj. Close', 'Adj. Volume']]\n",
    "df['HL_PCT'] = (df['Adj. High'] - df['Adj. Low']) / df['Adj. Close'] * 100.0\n",
    "df['PCT_change'] = (df['Adj. Close'] - df['Adj. Open']) / df['Adj. Open'] * 100.0"
   ]
  },
  {
   "cell_type": "code",
   "execution_count": 102,
   "metadata": {},
   "outputs": [],
   "source": [
    "df = df[['Adj. Close', 'HL_PCT', 'PCT_change', 'Adj. Volume']]\n",
    "forecast_col = 'Adj. Close'\n",
    "df.fillna(value=-99999, inplace=True)\n",
    "forecast_out = int(math.ceil(0.01 * len(df)))\n",
    "df['label'] = df[forecast_col].shift(-forecast_out)"
   ]
  },
  {
   "cell_type": "code",
   "execution_count": 103,
   "metadata": {},
   "outputs": [
    {
     "data": {
      "text/html": [
       "<div>\n",
       "<style scoped>\n",
       "    .dataframe tbody tr th:only-of-type {\n",
       "        vertical-align: middle;\n",
       "    }\n",
       "\n",
       "    .dataframe tbody tr th {\n",
       "        vertical-align: top;\n",
       "    }\n",
       "\n",
       "    .dataframe thead th {\n",
       "        text-align: right;\n",
       "    }\n",
       "</style>\n",
       "<table border=\"1\" class=\"dataframe\">\n",
       "  <thead>\n",
       "    <tr style=\"text-align: right;\">\n",
       "      <th></th>\n",
       "      <th>Adj. Close</th>\n",
       "      <th>HL_PCT</th>\n",
       "      <th>PCT_change</th>\n",
       "      <th>Adj. Volume</th>\n",
       "      <th>label</th>\n",
       "    </tr>\n",
       "    <tr>\n",
       "      <th>Date</th>\n",
       "      <th></th>\n",
       "      <th></th>\n",
       "      <th></th>\n",
       "      <th></th>\n",
       "      <th></th>\n",
       "    </tr>\n",
       "  </thead>\n",
       "  <tbody>\n",
       "    <tr>\n",
       "      <th>1970-01-02</th>\n",
       "      <td>0.743936</td>\n",
       "      <td>0.612903</td>\n",
       "      <td>0.404858</td>\n",
       "      <td>1174400.0</td>\n",
       "      <td>0.674942</td>\n",
       "    </tr>\n",
       "    <tr>\n",
       "      <th>1970-01-05</th>\n",
       "      <td>0.755935</td>\n",
       "      <td>1.793651</td>\n",
       "      <td>1.612903</td>\n",
       "      <td>1881600.0</td>\n",
       "      <td>0.659943</td>\n",
       "    </tr>\n",
       "    <tr>\n",
       "      <th>1970-01-06</th>\n",
       "      <td>0.754375</td>\n",
       "      <td>1.399714</td>\n",
       "      <td>-0.206349</td>\n",
       "      <td>1232000.0</td>\n",
       "      <td>0.656943</td>\n",
       "    </tr>\n",
       "    <tr>\n",
       "      <th>1970-01-07</th>\n",
       "      <td>0.749935</td>\n",
       "      <td>0.784000</td>\n",
       "      <td>-0.588516</td>\n",
       "      <td>918400.0</td>\n",
       "      <td>0.656943</td>\n",
       "    </tr>\n",
       "    <tr>\n",
       "      <th>1970-01-08</th>\n",
       "      <td>0.751375</td>\n",
       "      <td>1.197700</td>\n",
       "      <td>0.192000</td>\n",
       "      <td>1075200.0</td>\n",
       "      <td>0.655384</td>\n",
       "    </tr>\n",
       "  </tbody>\n",
       "</table>\n",
       "</div>"
      ],
      "text/plain": [
       "            Adj. Close    HL_PCT  PCT_change  Adj. Volume     label\n",
       "Date                                                               \n",
       "1970-01-02    0.743936  0.612903    0.404858    1174400.0  0.674942\n",
       "1970-01-05    0.755935  1.793651    1.612903    1881600.0  0.659943\n",
       "1970-01-06    0.754375  1.399714   -0.206349    1232000.0  0.656943\n",
       "1970-01-07    0.749935  0.784000   -0.588516     918400.0  0.656943\n",
       "1970-01-08    0.751375  1.197700    0.192000    1075200.0  0.655384"
      ]
     },
     "execution_count": 103,
     "metadata": {},
     "output_type": "execute_result"
    }
   ],
   "source": [
    "df.head()"
   ]
  },
  {
   "cell_type": "code",
   "execution_count": null,
   "metadata": {},
   "outputs": [],
   "source": []
  },
  {
   "cell_type": "code",
   "execution_count": 104,
   "metadata": {},
   "outputs": [],
   "source": [
    "df = df[['Adj. Close', 'HL_PCT', 'PCT_change', 'Adj. Volume']]\n",
    "forecast_col = 'Adj. Close'\n",
    "df.fillna(value=-99999, inplace=True)\n",
    "forecast_out = int(math.ceil(0.01 * len(df)))\n",
    "df['label'] = df[forecast_col].shift(-forecast_out)\n",
    "\n"
   ]
  },
  {
   "cell_type": "code",
   "execution_count": 105,
   "metadata": {},
   "outputs": [
    {
     "data": {
      "text/html": [
       "<div>\n",
       "<style scoped>\n",
       "    .dataframe tbody tr th:only-of-type {\n",
       "        vertical-align: middle;\n",
       "    }\n",
       "\n",
       "    .dataframe tbody tr th {\n",
       "        vertical-align: top;\n",
       "    }\n",
       "\n",
       "    .dataframe thead th {\n",
       "        text-align: right;\n",
       "    }\n",
       "</style>\n",
       "<table border=\"1\" class=\"dataframe\">\n",
       "  <thead>\n",
       "    <tr style=\"text-align: right;\">\n",
       "      <th></th>\n",
       "      <th>Adj. Close</th>\n",
       "      <th>HL_PCT</th>\n",
       "      <th>PCT_change</th>\n",
       "      <th>Adj. Volume</th>\n",
       "      <th>label</th>\n",
       "    </tr>\n",
       "    <tr>\n",
       "      <th>Date</th>\n",
       "      <th></th>\n",
       "      <th></th>\n",
       "      <th></th>\n",
       "      <th></th>\n",
       "      <th></th>\n",
       "    </tr>\n",
       "  </thead>\n",
       "  <tbody>\n",
       "    <tr>\n",
       "      <th>1970-01-02</th>\n",
       "      <td>0.743936</td>\n",
       "      <td>0.612903</td>\n",
       "      <td>0.404858</td>\n",
       "      <td>1174400.0</td>\n",
       "      <td>0.674942</td>\n",
       "    </tr>\n",
       "    <tr>\n",
       "      <th>1970-01-05</th>\n",
       "      <td>0.755935</td>\n",
       "      <td>1.793651</td>\n",
       "      <td>1.612903</td>\n",
       "      <td>1881600.0</td>\n",
       "      <td>0.659943</td>\n",
       "    </tr>\n",
       "    <tr>\n",
       "      <th>1970-01-06</th>\n",
       "      <td>0.754375</td>\n",
       "      <td>1.399714</td>\n",
       "      <td>-0.206349</td>\n",
       "      <td>1232000.0</td>\n",
       "      <td>0.656943</td>\n",
       "    </tr>\n",
       "    <tr>\n",
       "      <th>1970-01-07</th>\n",
       "      <td>0.749935</td>\n",
       "      <td>0.784000</td>\n",
       "      <td>-0.588516</td>\n",
       "      <td>918400.0</td>\n",
       "      <td>0.656943</td>\n",
       "    </tr>\n",
       "    <tr>\n",
       "      <th>1970-01-08</th>\n",
       "      <td>0.751375</td>\n",
       "      <td>1.197700</td>\n",
       "      <td>0.192000</td>\n",
       "      <td>1075200.0</td>\n",
       "      <td>0.655384</td>\n",
       "    </tr>\n",
       "  </tbody>\n",
       "</table>\n",
       "</div>"
      ],
      "text/plain": [
       "            Adj. Close    HL_PCT  PCT_change  Adj. Volume     label\n",
       "Date                                                               \n",
       "1970-01-02    0.743936  0.612903    0.404858    1174400.0  0.674942\n",
       "1970-01-05    0.755935  1.793651    1.612903    1881600.0  0.659943\n",
       "1970-01-06    0.754375  1.399714   -0.206349    1232000.0  0.656943\n",
       "1970-01-07    0.749935  0.784000   -0.588516     918400.0  0.656943\n",
       "1970-01-08    0.751375  1.197700    0.192000    1075200.0  0.655384"
      ]
     },
     "execution_count": 105,
     "metadata": {},
     "output_type": "execute_result"
    }
   ],
   "source": [
    "df.head()"
   ]
  },
  {
   "cell_type": "code",
   "execution_count": 106,
   "metadata": {},
   "outputs": [],
   "source": [
    "X = np.array(df.drop(['label'], 1))\n",
    "X = scale(X)\n",
    "X_lately = X[-forecast_out:]\n",
    "X = X[:-forecast_out]\n",
    "\n",
    "df.dropna(inplace=True)\n",
    "\n",
    "y = np.array(df['label'])\n",
    "\n",
    "X_train, X_test, y_train, y_test = train_test_split(X, y, test_size=0.2)"
   ]
  },
  {
   "cell_type": "code",
   "execution_count": 107,
   "metadata": {},
   "outputs": [],
   "source": [
    "clf = LinearRegression(n_jobs=-1)\n",
    "clf.fit(X_train, y_train)\n",
    "confidence = clf.score(X_test, y_test)"
   ]
  },
  {
   "cell_type": "code",
   "execution_count": 108,
   "metadata": {},
   "outputs": [],
   "source": [
    "forecast_set = clf.predict(X_lately)\n",
    "df['Forecast'] = np.nan"
   ]
  },
  {
   "cell_type": "code",
   "execution_count": 109,
   "metadata": {},
   "outputs": [],
   "source": [
    "last_date = df.iloc[-1].name\n",
    "last_unix = last_date.timestamp()\n",
    "one_day = 86400\n",
    "next_unix = last_unix + one_day\n",
    "\n"
   ]
  },
  {
   "cell_type": "code",
   "execution_count": 110,
   "metadata": {},
   "outputs": [],
   "source": [
    "for i in forecast_set:\n",
    "    next_date = datetime.datetime.fromtimestamp(next_unix)\n",
    "    next_unix += 86400\n",
    "    df.loc[next_date] = [np.nan for _ in range(len(df.columns)-1)]+[i]\n",
    "\n"
   ]
  },
  {
   "cell_type": "code",
   "execution_count": 111,
   "metadata": {},
   "outputs": [
    {
     "data": {
      "image/png": "[encoded data removed]",
      "text/plain": [
       "<Figure size 432x288 with 1 Axes>"
      ]
     },
     "metadata": {},
     "output_type": "display_data"
    }
   ],
   "source": [
    "df['Adj. Close'].plot()\n",
    "df['Forecast'].plot()\n",
    "plt.legend(loc=4)\n",
    "plt.xlabel('Date')\n",
    "plt.ylabel('Price')\n",
    "plt.show()"
   ]
  },
  {
   "cell_type": "markdown",
   "metadata": {},
   "source": [
    "\n",
    "# ************** START OF THE RESEARCH*********************"
   ]
  },
  {
   "cell_type": "markdown",
   "metadata": {},
   "source": [
    "My Course of Action:\n",
    "\n",
    "1) Create an index for companies that could project how lyft should function. \n",
    "\n",
    "2) Create a function to do the these steps to a single stock\n",
    "    - Import first 261 days (1 fiscal year) of stock prices for each stock\n",
    "    - keep the Open, High, Low, Close, Volume, Ex-Dividend for each stock in the dataframe\n",
    "    - Adjust for inflation using easy money\n",
    "    - create a column to isolate the month for seasionality\n",
    "    - number each instance by # of day in the year\n",
    "    - Save to a .csv in the /data directory\n",
    "    \n",
    "3) Create a function to Graph a given dataframe\n",
    "\n",
    "4) Create a fucntion to merge the datasets together. \n",
    "\n",
    "5) Normalize the full DS\n",
    "\n",
    "6) Instaniate a linuar regression model and train it with the overall data\n",
    "\n",
    "7) Use what Lyft stock data we have to predict to test the first year of Lyft IPO\n",
    "\n",
    "8) Make some sexy visuals from the prediction \n",
    "\n",
    "9) Analize the accuracy of the model\n",
    "\n",
    "10) Create alternative indexes and repeat this process for all of them.  \n"
   ]
  },
  {
   "cell_type": "code",
   "execution_count": 112,
   "metadata": {},
   "outputs": [],
   "source": [
    "# 1) create an index for tech stocks that might behave like Lyft\n",
    "tech_index = ['TWTR', 'GOOGL', 'FB', 'AMZN', 'SPLK', 'PYPL', 'YHOO', 'DBX']"
   ]
  },
  {
   "cell_type": "code",
   "execution_count": 113,
   "metadata": {},
   "outputs": [],
   "source": [
    "#Create an index for transportation companies:\n",
    "# Picked three top and bottom preforming stocks from DJTransportation index:\n",
    "#  https://www.marketwatch.com/investing/index/djt\n",
    "\n",
    "transportation_index= ['MATX', 'LUV', 'JBLU', 'CAR', 'FDX', 'ALK']"
   ]
  },
  {
   "cell_type": "code",
   "execution_count": 114,
   "metadata": {},
   "outputs": [],
   "source": [
    "#Write a function to combine multiple indexes\n",
    "def super_index(index_a, index_b):\n",
    "    super_index = index_a\n",
    "    for i in index_b:\n",
    "        super_index.append(i)\n",
    "    return super_index\n",
    "    "
   ]
  },
  {
   "cell_type": "code",
   "execution_count": 115,
   "metadata": {},
   "outputs": [],
   "source": [
    "# combiend index\n",
    "cmb_index = super_index(tech_index, transportation_index)"
   ]
  },
  {
   "cell_type": "code",
   "execution_count": 130,
   "metadata": {},
   "outputs": [],
   "source": [
    "# 2) Create Function to grab the data adn \n",
    "def import_process_stock(stock): #Stock is a stock code string\n",
    "    df = quandl.get((\"WIKI/\"+stock), api_key=quandel_key)\n",
    "#     - keep the Open, High, Low, Close, Volume, Ex-Dividend for each stock in the dataframe\n",
    "    df = df[['Open','High','Low','Close','Volume','Ex-Dividend']]\n",
    "    #Import first 261 days \n",
    "#     (1 fiscal year) of stock prices for each stock\n",
    "    df = df.iloc[:261]   \n",
    "    #Bring the timeserise index into the datafraem\n",
    "    df=df.reset_index()\n",
    "    #Add day and month numbers to time serise\n",
    "    df['d_number'] = range(1, len(df)+1)\n",
    "    df['Year'], df['Month'] = 0,0\n",
    "    my_data_dict = {\"years\": list(),\n",
    "                    \"months\": list()}\n",
    "\n",
    "    for item in df[\"Date\"]:\n",
    "        my_data_dict[\"years\"].append(item.year)\n",
    "        my_data_dict[\"months\"].append(item.month)\n",
    "\n",
    "    df[\"Year\"] = my_data_dict[\"years\"]\n",
    "    df[\"Month\"] = my_data_dict[\"months\"]\n",
    "\n",
    "    # Adjust for inflation using CPI\n",
    "\n",
    "\n",
    "#     - create a column to isolate the month for seasionality\n",
    "#     - number each instance by # of day in the year\n",
    "#     - Save to a .csv in the /data directory\n",
    "    return df\n",
    "\n"
   ]
  },
  {
   "cell_type": "code",
   "execution_count": null,
   "metadata": {},
   "outputs": [],
   "source": []
  },
  {
   "cell_type": "code",
   "execution_count": 131,
   "metadata": {},
   "outputs": [],
   "source": [
    "test = import_process_stock(tech_index[0])\n"
   ]
  },
  {
   "cell_type": "code",
   "execution_count": 132,
   "metadata": {},
   "outputs": [
    {
     "data": {
      "text/html": [
       "<div>\n",
       "<style scoped>\n",
       "    .dataframe tbody tr th:only-of-type {\n",
       "        vertical-align: middle;\n",
       "    }\n",
       "\n",
       "    .dataframe tbody tr th {\n",
       "        vertical-align: top;\n",
       "    }\n",
       "\n",
       "    .dataframe thead th {\n",
       "        text-align: right;\n",
       "    }\n",
       "</style>\n",
       "<table border=\"1\" class=\"dataframe\">\n",
       "  <thead>\n",
       "    <tr style=\"text-align: right;\">\n",
       "      <th></th>\n",
       "      <th>Date</th>\n",
       "      <th>Open</th>\n",
       "      <th>High</th>\n",
       "      <th>Low</th>\n",
       "      <th>Close</th>\n",
       "      <th>Volume</th>\n",
       "      <th>Ex-Dividend</th>\n",
       "      <th>d_number</th>\n",
       "      <th>Year</th>\n",
       "      <th>Month</th>\n",
       "    </tr>\n",
       "  </thead>\n",
       "  <tbody>\n",
       "    <tr>\n",
       "      <th>0</th>\n",
       "      <td>2013-11-07</td>\n",
       "      <td>45.10</td>\n",
       "      <td>50.09</td>\n",
       "      <td>44.00</td>\n",
       "      <td>44.90</td>\n",
       "      <td>117701600.0</td>\n",
       "      <td>0.0</td>\n",
       "      <td>1</td>\n",
       "      <td>2013</td>\n",
       "      <td>11</td>\n",
       "    </tr>\n",
       "    <tr>\n",
       "      <th>1</th>\n",
       "      <td>2013-11-08</td>\n",
       "      <td>45.93</td>\n",
       "      <td>46.94</td>\n",
       "      <td>40.69</td>\n",
       "      <td>41.65</td>\n",
       "      <td>27925300.0</td>\n",
       "      <td>0.0</td>\n",
       "      <td>2</td>\n",
       "      <td>2013</td>\n",
       "      <td>11</td>\n",
       "    </tr>\n",
       "    <tr>\n",
       "      <th>2</th>\n",
       "      <td>2013-11-11</td>\n",
       "      <td>40.50</td>\n",
       "      <td>43.00</td>\n",
       "      <td>39.40</td>\n",
       "      <td>42.90</td>\n",
       "      <td>16113900.0</td>\n",
       "      <td>0.0</td>\n",
       "      <td>3</td>\n",
       "      <td>2013</td>\n",
       "      <td>11</td>\n",
       "    </tr>\n",
       "    <tr>\n",
       "      <th>3</th>\n",
       "      <td>2013-11-12</td>\n",
       "      <td>43.66</td>\n",
       "      <td>43.78</td>\n",
       "      <td>41.83</td>\n",
       "      <td>41.90</td>\n",
       "      <td>6316700.0</td>\n",
       "      <td>0.0</td>\n",
       "      <td>4</td>\n",
       "      <td>2013</td>\n",
       "      <td>11</td>\n",
       "    </tr>\n",
       "    <tr>\n",
       "      <th>4</th>\n",
       "      <td>2013-11-13</td>\n",
       "      <td>41.03</td>\n",
       "      <td>42.87</td>\n",
       "      <td>40.76</td>\n",
       "      <td>42.60</td>\n",
       "      <td>8688300.0</td>\n",
       "      <td>0.0</td>\n",
       "      <td>5</td>\n",
       "      <td>2013</td>\n",
       "      <td>11</td>\n",
       "    </tr>\n",
       "  </tbody>\n",
       "</table>\n",
       "</div>"
      ],
      "text/plain": [
       "        Date   Open   High    Low  Close       Volume  Ex-Dividend  d_number  \\\n",
       "0 2013-11-07  45.10  50.09  44.00  44.90  117701600.0          0.0         1   \n",
       "1 2013-11-08  45.93  46.94  40.69  41.65   27925300.0          0.0         2   \n",
       "2 2013-11-11  40.50  43.00  39.40  42.90   16113900.0          0.0         3   \n",
       "3 2013-11-12  43.66  43.78  41.83  41.90    6316700.0          0.0         4   \n",
       "4 2013-11-13  41.03  42.87  40.76  42.60    8688300.0          0.0         5   \n",
       "\n",
       "   Year  Month  \n",
       "0  2013     11  \n",
       "1  2013     11  \n",
       "2  2013     11  \n",
       "3  2013     11  \n",
       "4  2013     11  "
      ]
     },
     "execution_count": 132,
     "metadata": {},
     "output_type": "execute_result"
    }
   ],
   "source": [
    "test.head()"
   ]
  },
  {
   "cell_type": "markdown",
   "metadata": {},
   "source": [
    "### GOAL: Isolate `Month` and `Year` from `pd.Timestamp` objects!"
   ]
  },
  {
   "cell_type": "markdown",
   "metadata": {},
   "source": [
    "NOTE: Can be improved (three for loops === **BAD**). \n",
    "\n",
    "Can use iterator/generator or improved list comp?"
   ]
  },
  {
   "cell_type": "code",
   "execution_count": 128,
   "metadata": {},
   "outputs": [],
   "source": [
    "my_data_dict = {\"years\": list(),\n",
    "                \"months\": list()}\n",
    "\n",
    "for item in test[\"Date\"]:\n",
    "    my_data_dict[\"years\"].append(item.year)\n",
    "    my_data_dict[\"months\"].append(item.month)\n",
    "\n",
    "test[\"Year\"] = my_data_dict[\"years\"]\n",
    "test[\"Month\"] = my_data_dict[\"months\"]"
   ]
  },
  {
   "cell_type": "code",
   "execution_count": 129,
   "metadata": {
    "scrolled": true
   },
   "outputs": [
    {
     "data": {
      "text/html": [
       "<div>\n",
       "<style scoped>\n",
       "    .dataframe tbody tr th:only-of-type {\n",
       "        vertical-align: middle;\n",
       "    }\n",
       "\n",
       "    .dataframe tbody tr th {\n",
       "        vertical-align: top;\n",
       "    }\n",
       "\n",
       "    .dataframe thead th {\n",
       "        text-align: right;\n",
       "    }\n",
       "</style>\n",
       "<table border=\"1\" class=\"dataframe\">\n",
       "  <thead>\n",
       "    <tr style=\"text-align: right;\">\n",
       "      <th></th>\n",
       "      <th>Date</th>\n",
       "      <th>Open</th>\n",
       "      <th>High</th>\n",
       "      <th>Low</th>\n",
       "      <th>Close</th>\n",
       "      <th>Volume</th>\n",
       "      <th>Ex-Dividend</th>\n",
       "      <th>d_number</th>\n",
       "      <th>Year</th>\n",
       "      <th>Month</th>\n",
       "    </tr>\n",
       "  </thead>\n",
       "  <tbody>\n",
       "    <tr>\n",
       "      <th>0</th>\n",
       "      <td>2013-11-07</td>\n",
       "      <td>45.10</td>\n",
       "      <td>50.09</td>\n",
       "      <td>44.00</td>\n",
       "      <td>44.90</td>\n",
       "      <td>117701600.0</td>\n",
       "      <td>0.0</td>\n",
       "      <td>1</td>\n",
       "      <td>2013</td>\n",
       "      <td>11</td>\n",
       "    </tr>\n",
       "    <tr>\n",
       "      <th>1</th>\n",
       "      <td>2013-11-08</td>\n",
       "      <td>45.93</td>\n",
       "      <td>46.94</td>\n",
       "      <td>40.69</td>\n",
       "      <td>41.65</td>\n",
       "      <td>27925300.0</td>\n",
       "      <td>0.0</td>\n",
       "      <td>2</td>\n",
       "      <td>2013</td>\n",
       "      <td>11</td>\n",
       "    </tr>\n",
       "    <tr>\n",
       "      <th>2</th>\n",
       "      <td>2013-11-11</td>\n",
       "      <td>40.50</td>\n",
       "      <td>43.00</td>\n",
       "      <td>39.40</td>\n",
       "      <td>42.90</td>\n",
       "      <td>16113900.0</td>\n",
       "      <td>0.0</td>\n",
       "      <td>3</td>\n",
       "      <td>2013</td>\n",
       "      <td>11</td>\n",
       "    </tr>\n",
       "    <tr>\n",
       "      <th>3</th>\n",
       "      <td>2013-11-12</td>\n",
       "      <td>43.66</td>\n",
       "      <td>43.78</td>\n",
       "      <td>41.83</td>\n",
       "      <td>41.90</td>\n",
       "      <td>6316700.0</td>\n",
       "      <td>0.0</td>\n",
       "      <td>4</td>\n",
       "      <td>2013</td>\n",
       "      <td>11</td>\n",
       "    </tr>\n",
       "    <tr>\n",
       "      <th>4</th>\n",
       "      <td>2013-11-13</td>\n",
       "      <td>41.03</td>\n",
       "      <td>42.87</td>\n",
       "      <td>40.76</td>\n",
       "      <td>42.60</td>\n",
       "      <td>8688300.0</td>\n",
       "      <td>0.0</td>\n",
       "      <td>5</td>\n",
       "      <td>2013</td>\n",
       "      <td>11</td>\n",
       "    </tr>\n",
       "  </tbody>\n",
       "</table>\n",
       "</div>"
      ],
      "text/plain": [
       "        Date   Open   High    Low  Close       Volume  Ex-Dividend  d_number  \\\n",
       "0 2013-11-07  45.10  50.09  44.00  44.90  117701600.0          0.0         1   \n",
       "1 2013-11-08  45.93  46.94  40.69  41.65   27925300.0          0.0         2   \n",
       "2 2013-11-11  40.50  43.00  39.40  42.90   16113900.0          0.0         3   \n",
       "3 2013-11-12  43.66  43.78  41.83  41.90    6316700.0          0.0         4   \n",
       "4 2013-11-13  41.03  42.87  40.76  42.60    8688300.0          0.0         5   \n",
       "\n",
       "   Year  Month  \n",
       "0  2013     11  \n",
       "1  2013     11  \n",
       "2  2013     11  \n",
       "3  2013     11  \n",
       "4  2013     11  "
      ]
     },
     "execution_count": 129,
     "metadata": {},
     "output_type": "execute_result"
    }
   ],
   "source": [
    "test.head()"
   ]
  },
  {
   "cell_type": "code",
   "execution_count": 25,
   "metadata": {},
   "outputs": [
    {
     "data": {
      "text/plain": [
       "Index(['Date', 'Open', 'High', 'Low', 'Close', 'Volume', 'Ex-Dividend',\n",
       "       'd_number'],\n",
       "      dtype='object')"
      ]
     },
     "execution_count": 25,
     "metadata": {},
     "output_type": "execute_result"
    }
   ],
   "source": [
    "test.columns"
   ]
  },
  {
   "cell_type": "code",
   "execution_count": null,
   "metadata": {},
   "outputs": [],
   "source": []
  },
  {
   "cell_type": "code",
   "execution_count": 26,
   "metadata": {},
   "outputs": [],
   "source": [
    "test.to_csv(\"test.csv\")"
   ]
  },
  {
   "cell_type": "code",
   "execution_count": 27,
   "metadata": {},
   "outputs": [
    {
     "data": {
      "text/plain": [
       "2536.434343434343"
      ]
     },
     "execution_count": 27,
     "metadata": {},
     "output_type": "execute_result"
    }
   ],
   "source": [
    "# test cpi.inflate()\n",
    "# info at https://github.com/datadesk/cpi\n",
    "\n",
    "cpi_test= cpi.inflate(100, 1913, to=2018)\n",
    "\n",
    "cpi_test"
   ]
  },
  {
   "cell_type": "code",
   "execution_count": null,
   "metadata": {},
   "outputs": [],
   "source": []
  },
  {
   "cell_type": "code",
   "execution_count": null,
   "metadata": {},
   "outputs": [],
   "source": [
    "\n"
   ]
  },
  {
   "cell_type": "code",
   "execution_count": null,
   "metadata": {},
   "outputs": [],
   "source": []
  },
  {
   "cell_type": "code",
   "execution_count": null,
   "metadata": {},
   "outputs": [],
   "source": []
  },
  {
   "cell_type": "code",
   "execution_count": null,
   "metadata": {},
   "outputs": [],
   "source": []
  },
  {
   "cell_type": "code",
   "execution_count": null,
   "metadata": {},
   "outputs": [],
   "source": []
  },
  {
   "cell_type": "code",
   "execution_count": null,
   "metadata": {},
   "outputs": [],
   "source": []
  },
  {
   "cell_type": "code",
   "execution_count": null,
   "metadata": {},
   "outputs": [],
   "source": []
  },
  {
   "cell_type": "code",
   "execution_count": null,
   "metadata": {},
   "outputs": [],
   "source": []
  }
 ],
 "metadata": {
  "kernelspec": {
   "display_name": "Python 3",
   "language": "python",
   "name": "python3"
  },
  "language_info": {
   "codemirror_mode": {
    "name": "ipython",
    "version": 3
   },
   "file_extension": ".py",
   "mimetype": "text/x-python",
   "name": "python",
   "nbconvert_exporter": "python",
   "pygments_lexer": "ipython3",
   "version": "3.7.3"
  }
 },
 "nbformat": 4,
 "nbformat_minor": 2
}
