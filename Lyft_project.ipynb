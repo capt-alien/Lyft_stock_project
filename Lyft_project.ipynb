{
 "cells": [
  {
   "cell_type": "code",
   "execution_count": 2,
   "metadata": {},
   "outputs": [],
   "source": [
    "import quandl\n",
    "import datetime\n",
    "import cpi\n",
    "from matplotlib import style\n",
    "import os"
   ]
  },
  {
   "cell_type": "code",
   "execution_count": 3,
   "metadata": {},
   "outputs": [],
   "source": [
    "import math\n",
    "import numpy as np\n",
    "import pandas as pd\n",
    "import matplotlib.pyplot as plt\n",
    "\n",
    "from sklearn.preprocessing import scale\n",
    "from sklearn.model_selection import train_test_split, cross_val_score, cross_validate\n",
    "from sklearn.linear_model import LinearRegression"
   ]
  },
  {
   "cell_type": "markdown",
   "metadata": {},
   "source": [
    "## WARNING!\n",
    "\n",
    "`cpi.update()` is a heavy function that updates the entire CPI package and is very bloaty and unnecessary! \n",
    "\n",
    "**Uncomment and run if absolutely needed!**"
   ]
  },
  {
   "cell_type": "code",
   "execution_count": 4,
   "metadata": {},
   "outputs": [],
   "source": [
    "# cpi.update()"
   ]
  },
  {
   "cell_type": "code",
   "execution_count": 5,
   "metadata": {},
   "outputs": [
    {
     "data": {
      "text/plain": [
       "'qrznzr7vcG1HMd7ae2E7'"
      ]
     },
     "execution_count": 5,
     "metadata": {},
     "output_type": "execute_result"
    }
   ],
   "source": [
    "#import API key\n",
    "from SECRET_KEY import quandel_key\n",
    "quandel_key"
   ]
  },
  {
   "cell_type": "code",
   "execution_count": 6,
   "metadata": {},
   "outputs": [],
   "source": [
    "style.use('ggplot')"
   ]
  },
  {
   "cell_type": "code",
   "execution_count": 7,
   "metadata": {},
   "outputs": [
    {
     "data": {
      "text/html": [
       "<div>\n",
       "<style scoped>\n",
       "    .dataframe tbody tr th:only-of-type {\n",
       "        vertical-align: middle;\n",
       "    }\n",
       "\n",
       "    .dataframe tbody tr th {\n",
       "        vertical-align: top;\n",
       "    }\n",
       "\n",
       "    .dataframe thead th {\n",
       "        text-align: right;\n",
       "    }\n",
       "</style>\n",
       "<table border=\"1\" class=\"dataframe\">\n",
       "  <thead>\n",
       "    <tr style=\"text-align: right;\">\n",
       "      <th></th>\n",
       "      <th>Open</th>\n",
       "      <th>High</th>\n",
       "      <th>Low</th>\n",
       "      <th>Close</th>\n",
       "      <th>Volume</th>\n",
       "      <th>Ex-Dividend</th>\n",
       "      <th>Split Ratio</th>\n",
       "      <th>Adj. Open</th>\n",
       "      <th>Adj. High</th>\n",
       "      <th>Adj. Low</th>\n",
       "      <th>Adj. Close</th>\n",
       "      <th>Adj. Volume</th>\n",
       "    </tr>\n",
       "    <tr>\n",
       "      <th>Date</th>\n",
       "      <th></th>\n",
       "      <th></th>\n",
       "      <th></th>\n",
       "      <th></th>\n",
       "      <th></th>\n",
       "      <th></th>\n",
       "      <th></th>\n",
       "      <th></th>\n",
       "      <th></th>\n",
       "      <th></th>\n",
       "      <th></th>\n",
       "      <th></th>\n",
       "    </tr>\n",
       "  </thead>\n",
       "  <tbody>\n",
       "    <tr>\n",
       "      <th>1970-01-02</th>\n",
       "      <td>61.75</td>\n",
       "      <td>62.00</td>\n",
       "      <td>61.62</td>\n",
       "      <td>62.00</td>\n",
       "      <td>36700.0</td>\n",
       "      <td>0.0</td>\n",
       "      <td>1.0</td>\n",
       "      <td>0.740936</td>\n",
       "      <td>0.743936</td>\n",
       "      <td>0.739376</td>\n",
       "      <td>0.743936</td>\n",
       "      <td>1174400.0</td>\n",
       "    </tr>\n",
       "    <tr>\n",
       "      <th>1970-01-05</th>\n",
       "      <td>62.00</td>\n",
       "      <td>63.00</td>\n",
       "      <td>61.87</td>\n",
       "      <td>63.00</td>\n",
       "      <td>58800.0</td>\n",
       "      <td>0.0</td>\n",
       "      <td>1.0</td>\n",
       "      <td>0.743936</td>\n",
       "      <td>0.755935</td>\n",
       "      <td>0.742376</td>\n",
       "      <td>0.755935</td>\n",
       "      <td>1881600.0</td>\n",
       "    </tr>\n",
       "    <tr>\n",
       "      <th>1970-01-06</th>\n",
       "      <td>63.00</td>\n",
       "      <td>63.13</td>\n",
       "      <td>62.25</td>\n",
       "      <td>62.87</td>\n",
       "      <td>38500.0</td>\n",
       "      <td>0.0</td>\n",
       "      <td>1.0</td>\n",
       "      <td>0.755935</td>\n",
       "      <td>0.757495</td>\n",
       "      <td>0.746936</td>\n",
       "      <td>0.754375</td>\n",
       "      <td>1232000.0</td>\n",
       "    </tr>\n",
       "    <tr>\n",
       "      <th>1970-01-07</th>\n",
       "      <td>62.87</td>\n",
       "      <td>62.87</td>\n",
       "      <td>62.38</td>\n",
       "      <td>62.50</td>\n",
       "      <td>28700.0</td>\n",
       "      <td>0.0</td>\n",
       "      <td>1.0</td>\n",
       "      <td>0.754375</td>\n",
       "      <td>0.754375</td>\n",
       "      <td>0.748496</td>\n",
       "      <td>0.749935</td>\n",
       "      <td>918400.0</td>\n",
       "    </tr>\n",
       "    <tr>\n",
       "      <th>1970-01-08</th>\n",
       "      <td>62.50</td>\n",
       "      <td>63.00</td>\n",
       "      <td>62.25</td>\n",
       "      <td>62.62</td>\n",
       "      <td>33600.0</td>\n",
       "      <td>0.0</td>\n",
       "      <td>1.0</td>\n",
       "      <td>0.749935</td>\n",
       "      <td>0.755935</td>\n",
       "      <td>0.746936</td>\n",
       "      <td>0.751375</td>\n",
       "      <td>1075200.0</td>\n",
       "    </tr>\n",
       "  </tbody>\n",
       "</table>\n",
       "</div>"
      ],
      "text/plain": [
       "             Open   High    Low  Close   Volume  Ex-Dividend  Split Ratio  \\\n",
       "Date                                                                        \n",
       "1970-01-02  61.75  62.00  61.62  62.00  36700.0          0.0          1.0   \n",
       "1970-01-05  62.00  63.00  61.87  63.00  58800.0          0.0          1.0   \n",
       "1970-01-06  63.00  63.13  62.25  62.87  38500.0          0.0          1.0   \n",
       "1970-01-07  62.87  62.87  62.38  62.50  28700.0          0.0          1.0   \n",
       "1970-01-08  62.50  63.00  62.25  62.62  33600.0          0.0          1.0   \n",
       "\n",
       "            Adj. Open  Adj. High  Adj. Low  Adj. Close  Adj. Volume  \n",
       "Date                                                                 \n",
       "1970-01-02   0.740936   0.743936  0.739376    0.743936    1174400.0  \n",
       "1970-01-05   0.743936   0.755935  0.742376    0.755935    1881600.0  \n",
       "1970-01-06   0.755935   0.757495  0.746936    0.754375    1232000.0  \n",
       "1970-01-07   0.754375   0.754375  0.748496    0.749935     918400.0  \n",
       "1970-01-08   0.749935   0.755935  0.746936    0.751375    1075200.0  "
      ]
     },
     "execution_count": 7,
     "metadata": {},
     "output_type": "execute_result"
    }
   ],
   "source": [
    "df = quandl.get(\"WIKI/XOM\", api_key=quandel_key)\n",
    "\n",
    "df.head()"
   ]
  },
  {
   "cell_type": "code",
   "execution_count": 8,
   "metadata": {},
   "outputs": [],
   "source": [
    "df = df[['Adj. Open',  'Adj. High',  'Adj. Low',  'Adj. Close', 'Adj. Volume']]\n",
    "df['HL_PCT'] = (df['Adj. High'] - df['Adj. Low']) / df['Adj. Close'] * 100.0\n",
    "df['PCT_change'] = (df['Adj. Close'] - df['Adj. Open']) / df['Adj. Open'] * 100.0"
   ]
  },
  {
   "cell_type": "code",
   "execution_count": 9,
   "metadata": {},
   "outputs": [],
   "source": [
    "df = df[['Adj. Close', 'HL_PCT', 'PCT_change', 'Adj. Volume']]\n",
    "forecast_col = 'Adj. Close'\n",
    "df.fillna(value=-99999, inplace=True)\n",
    "forecast_out = int(math.ceil(0.01 * len(df)))\n",
    "df['label'] = df[forecast_col].shift(-forecast_out)"
   ]
  },
  {
   "cell_type": "code",
   "execution_count": 10,
   "metadata": {},
   "outputs": [
    {
     "data": {
      "text/html": [
       "<div>\n",
       "<style scoped>\n",
       "    .dataframe tbody tr th:only-of-type {\n",
       "        vertical-align: middle;\n",
       "    }\n",
       "\n",
       "    .dataframe tbody tr th {\n",
       "        vertical-align: top;\n",
       "    }\n",
       "\n",
       "    .dataframe thead th {\n",
       "        text-align: right;\n",
       "    }\n",
       "</style>\n",
       "<table border=\"1\" class=\"dataframe\">\n",
       "  <thead>\n",
       "    <tr style=\"text-align: right;\">\n",
       "      <th></th>\n",
       "      <th>Adj. Close</th>\n",
       "      <th>HL_PCT</th>\n",
       "      <th>PCT_change</th>\n",
       "      <th>Adj. Volume</th>\n",
       "      <th>label</th>\n",
       "    </tr>\n",
       "    <tr>\n",
       "      <th>Date</th>\n",
       "      <th></th>\n",
       "      <th></th>\n",
       "      <th></th>\n",
       "      <th></th>\n",
       "      <th></th>\n",
       "    </tr>\n",
       "  </thead>\n",
       "  <tbody>\n",
       "    <tr>\n",
       "      <th>1970-01-02</th>\n",
       "      <td>0.743936</td>\n",
       "      <td>0.612903</td>\n",
       "      <td>0.404858</td>\n",
       "      <td>1174400.0</td>\n",
       "      <td>0.674942</td>\n",
       "    </tr>\n",
       "    <tr>\n",
       "      <th>1970-01-05</th>\n",
       "      <td>0.755935</td>\n",
       "      <td>1.793651</td>\n",
       "      <td>1.612903</td>\n",
       "      <td>1881600.0</td>\n",
       "      <td>0.659943</td>\n",
       "    </tr>\n",
       "    <tr>\n",
       "      <th>1970-01-06</th>\n",
       "      <td>0.754375</td>\n",
       "      <td>1.399714</td>\n",
       "      <td>-0.206349</td>\n",
       "      <td>1232000.0</td>\n",
       "      <td>0.656943</td>\n",
       "    </tr>\n",
       "    <tr>\n",
       "      <th>1970-01-07</th>\n",
       "      <td>0.749935</td>\n",
       "      <td>0.784000</td>\n",
       "      <td>-0.588516</td>\n",
       "      <td>918400.0</td>\n",
       "      <td>0.656943</td>\n",
       "    </tr>\n",
       "    <tr>\n",
       "      <th>1970-01-08</th>\n",
       "      <td>0.751375</td>\n",
       "      <td>1.197700</td>\n",
       "      <td>0.192000</td>\n",
       "      <td>1075200.0</td>\n",
       "      <td>0.655384</td>\n",
       "    </tr>\n",
       "  </tbody>\n",
       "</table>\n",
       "</div>"
      ],
      "text/plain": [
       "            Adj. Close    HL_PCT  PCT_change  Adj. Volume     label\n",
       "Date                                                               \n",
       "1970-01-02    0.743936  0.612903    0.404858    1174400.0  0.674942\n",
       "1970-01-05    0.755935  1.793651    1.612903    1881600.0  0.659943\n",
       "1970-01-06    0.754375  1.399714   -0.206349    1232000.0  0.656943\n",
       "1970-01-07    0.749935  0.784000   -0.588516     918400.0  0.656943\n",
       "1970-01-08    0.751375  1.197700    0.192000    1075200.0  0.655384"
      ]
     },
     "execution_count": 10,
     "metadata": {},
     "output_type": "execute_result"
    }
   ],
   "source": [
    "df.head()"
   ]
  },
  {
   "cell_type": "code",
   "execution_count": null,
   "metadata": {},
   "outputs": [],
   "source": []
  },
  {
   "cell_type": "code",
   "execution_count": 11,
   "metadata": {},
   "outputs": [],
   "source": [
    "df = df[['Adj. Close', 'HL_PCT', 'PCT_change', 'Adj. Volume']]\n",
    "forecast_col = 'Adj. Close'\n",
    "df.fillna(value=-99999, inplace=True)\n",
    "forecast_out = int(math.ceil(0.01 * len(df)))\n",
    "df['label'] = df[forecast_col].shift(-forecast_out)\n",
    "\n"
   ]
  },
  {
   "cell_type": "code",
   "execution_count": 12,
   "metadata": {},
   "outputs": [
    {
     "data": {
      "text/html": [
       "<div>\n",
       "<style scoped>\n",
       "    .dataframe tbody tr th:only-of-type {\n",
       "        vertical-align: middle;\n",
       "    }\n",
       "\n",
       "    .dataframe tbody tr th {\n",
       "        vertical-align: top;\n",
       "    }\n",
       "\n",
       "    .dataframe thead th {\n",
       "        text-align: right;\n",
       "    }\n",
       "</style>\n",
       "<table border=\"1\" class=\"dataframe\">\n",
       "  <thead>\n",
       "    <tr style=\"text-align: right;\">\n",
       "      <th></th>\n",
       "      <th>Adj. Close</th>\n",
       "      <th>HL_PCT</th>\n",
       "      <th>PCT_change</th>\n",
       "      <th>Adj. Volume</th>\n",
       "      <th>label</th>\n",
       "    </tr>\n",
       "    <tr>\n",
       "      <th>Date</th>\n",
       "      <th></th>\n",
       "      <th></th>\n",
       "      <th></th>\n",
       "      <th></th>\n",
       "      <th></th>\n",
       "    </tr>\n",
       "  </thead>\n",
       "  <tbody>\n",
       "    <tr>\n",
       "      <th>1970-01-02</th>\n",
       "      <td>0.743936</td>\n",
       "      <td>0.612903</td>\n",
       "      <td>0.404858</td>\n",
       "      <td>1174400.0</td>\n",
       "      <td>0.674942</td>\n",
       "    </tr>\n",
       "    <tr>\n",
       "      <th>1970-01-05</th>\n",
       "      <td>0.755935</td>\n",
       "      <td>1.793651</td>\n",
       "      <td>1.612903</td>\n",
       "      <td>1881600.0</td>\n",
       "      <td>0.659943</td>\n",
       "    </tr>\n",
       "    <tr>\n",
       "      <th>1970-01-06</th>\n",
       "      <td>0.754375</td>\n",
       "      <td>1.399714</td>\n",
       "      <td>-0.206349</td>\n",
       "      <td>1232000.0</td>\n",
       "      <td>0.656943</td>\n",
       "    </tr>\n",
       "    <tr>\n",
       "      <th>1970-01-07</th>\n",
       "      <td>0.749935</td>\n",
       "      <td>0.784000</td>\n",
       "      <td>-0.588516</td>\n",
       "      <td>918400.0</td>\n",
       "      <td>0.656943</td>\n",
       "    </tr>\n",
       "    <tr>\n",
       "      <th>1970-01-08</th>\n",
       "      <td>0.751375</td>\n",
       "      <td>1.197700</td>\n",
       "      <td>0.192000</td>\n",
       "      <td>1075200.0</td>\n",
       "      <td>0.655384</td>\n",
       "    </tr>\n",
       "  </tbody>\n",
       "</table>\n",
       "</div>"
      ],
      "text/plain": [
       "            Adj. Close    HL_PCT  PCT_change  Adj. Volume     label\n",
       "Date                                                               \n",
       "1970-01-02    0.743936  0.612903    0.404858    1174400.0  0.674942\n",
       "1970-01-05    0.755935  1.793651    1.612903    1881600.0  0.659943\n",
       "1970-01-06    0.754375  1.399714   -0.206349    1232000.0  0.656943\n",
       "1970-01-07    0.749935  0.784000   -0.588516     918400.0  0.656943\n",
       "1970-01-08    0.751375  1.197700    0.192000    1075200.0  0.655384"
      ]
     },
     "execution_count": 12,
     "metadata": {},
     "output_type": "execute_result"
    }
   ],
   "source": [
    "df.head()"
   ]
  },
  {
   "cell_type": "code",
   "execution_count": 13,
   "metadata": {},
   "outputs": [],
   "source": [
    "X = np.array(df.drop(['label'], 1))\n",
    "X = scale(X)\n",
    "X_lately = X[-forecast_out:]\n",
    "X = X[:-forecast_out]\n",
    "\n",
    "df.dropna(inplace=True)\n",
    "\n",
    "y = np.array(df['label'])\n",
    "\n",
    "X_train, X_test, y_train, y_test = train_test_split(X, y, test_size=0.2)"
   ]
  },
  {
   "cell_type": "code",
   "execution_count": 14,
   "metadata": {},
   "outputs": [],
   "source": [
    "clf = LinearRegression(n_jobs=-1)\n",
    "clf.fit(X_train, y_train)\n",
    "confidence = clf.score(X_test, y_test)"
   ]
  },
  {
   "cell_type": "code",
   "execution_count": 15,
   "metadata": {},
   "outputs": [],
   "source": [
    "forecast_set = clf.predict(X_lately)\n",
    "df['Forecast'] = np.nan"
   ]
  },
  {
   "cell_type": "code",
   "execution_count": 16,
   "metadata": {},
   "outputs": [],
   "source": [
    "last_date = df.iloc[-1].name\n",
    "last_unix = last_date.timestamp()\n",
    "one_day = 86400\n",
    "next_unix = last_unix + one_day\n",
    "\n"
   ]
  },
  {
   "cell_type": "code",
   "execution_count": 17,
   "metadata": {},
   "outputs": [],
   "source": [
    "for i in forecast_set:\n",
    "    next_date = datetime.datetime.fromtimestamp(next_unix)\n",
    "    next_unix += 86400\n",
    "    df.loc[next_date] = [np.nan for _ in range(len(df.columns)-1)]+[i]\n",
    "\n"
   ]
  },
  {
   "cell_type": "code",
   "execution_count": 18,
   "metadata": {},
   "outputs": [
    {
     "data": {
      "image/png": "[encoded data removed]",
      "text/plain": [
       "<Figure size 432x288 with 1 Axes>"
      ]
     },
     "metadata": {},
     "output_type": "display_data"
    }
   ],
   "source": [
    "df['Adj. Close'].plot()\n",
    "df['Forecast'].plot()\n",
    "plt.legend(loc=4)\n",
    "plt.xlabel('Date')\n",
    "plt.ylabel('Price')\n",
    "plt.show()"
   ]
  },
  {
   "cell_type": "markdown",
   "metadata": {},
   "source": [
    "\n",
    "# ************** START OF THE RESEARCH*********************"
   ]
  },
  {
   "cell_type": "markdown",
   "metadata": {},
   "source": [
    "My Course of Action:\n",
    "\n",
    "1) Create an index for companies that could project how lyft should function. \n",
    "\n",
    "2) Create a function to do the these steps to a single stock\n",
    "    - Import first 261 days (1 fiscal year) of stock prices for each stock\n",
    "    - keep the Open, High, Low, Close, Volume, Ex-Dividend for each stock in the dataframe\n",
    "    - Adjust for inflation using easy money\n",
    "    - create a column to isolate the month for seasionality\n",
    "    - number each instance by # of day in the year\n",
    "    - Save to a .csv in the /data directory\n",
    "    \n",
    "3) Create a function to Graph a given dataframe\n",
    "\n",
    "4) Create a fucntion to merge the datasets together. \n",
    "\n",
    "5) Normalize the full DS\n",
    "\n",
    "6) Instaniate a linuar regression model and train it with the overall data\n",
    "\n",
    "7) Use what Lyft stock data we have to predict to test the first year of Lyft IPO\n",
    "\n",
    "8) Make some sexy visuals from the prediction \n",
    "\n",
    "9) Analize the accuracy of the model\n",
    "\n",
    "10) Create alternative indexes and repeat this process for all of them.  \n"
   ]
  },
  {
   "cell_type": "code",
   "execution_count": 19,
   "metadata": {},
   "outputs": [],
   "source": [
    "# 1) create an index for tech stocks that might behave like Lyft\n",
    "tech_index = ['TWTR', 'GOOGL', 'FB', 'AMZN', 'SPLK', 'PYPL', 'YHOO', 'DBX']"
   ]
  },
  {
   "cell_type": "code",
   "execution_count": 20,
   "metadata": {},
   "outputs": [],
   "source": [
    "#Create an index for transportation companies:\n",
    "# Picked three top and bottom preforming stocks from DJTransportation index:\n",
    "#  https://www.marketwatch.com/investing/index/djt\n",
    "\n",
    "transportation_index= ['MATX', 'LUV', 'JBLU', 'CAR', 'FDX', 'ALK']"
   ]
  },
  {
   "cell_type": "code",
   "execution_count": 21,
   "metadata": {},
   "outputs": [],
   "source": [
    "#Write a function to combine multiple indexes\n",
    "def super_index(index_a, index_b):\n",
    "    super_index = index_a\n",
    "    for i in index_b:\n",
    "        super_index.append(i)\n",
    "    return super_index\n",
    "    "
   ]
  },
  {
   "cell_type": "code",
   "execution_count": 22,
   "metadata": {},
   "outputs": [],
   "source": [
    "# combiend index\n",
    "cmb_index = super_index(tech_index, transportation_index)"
   ]
  },
  {
   "cell_type": "code",
   "execution_count": null,
   "metadata": {},
   "outputs": [],
   "source": []
  },
  {
   "cell_type": "code",
   "execution_count": 23,
   "metadata": {},
   "outputs": [],
   "source": [
    "#     my_data_dict = {\"years\": list(),\n",
    "#                     \"months\": list()}\n",
    "    \n",
    "#     for item in df[\"Date\"]:\n",
    "#         my_data_dict[\"years\"].append(item.year)\n",
    "#         my_data_dict[\"months\"].append(item.month)"
   ]
  },
  {
   "cell_type": "code",
   "execution_count": 26,
   "metadata": {},
   "outputs": [],
   "source": [
    "# Create map of DJIA and import it into the stock column\n",
    "djia=pd.read_csv('data/djia.csv')\n",
    "djia.columns =['Date', \"DJIA\"]"
   ]
  },
  {
   "cell_type": "code",
   "execution_count": 27,
   "metadata": {},
   "outputs": [
    {
     "data": {
      "text/html": [
       "<div>\n",
       "<style scoped>\n",
       "    .dataframe tbody tr th:only-of-type {\n",
       "        vertical-align: middle;\n",
       "    }\n",
       "\n",
       "    .dataframe tbody tr th {\n",
       "        vertical-align: top;\n",
       "    }\n",
       "\n",
       "    .dataframe thead th {\n",
       "        text-align: right;\n",
       "    }\n",
       "</style>\n",
       "<table border=\"1\" class=\"dataframe\">\n",
       "  <thead>\n",
       "    <tr style=\"text-align: right;\">\n",
       "      <th></th>\n",
       "      <th>Date</th>\n",
       "      <th>DJIA</th>\n",
       "    </tr>\n",
       "  </thead>\n",
       "  <tbody>\n",
       "    <tr>\n",
       "      <th>0</th>\n",
       "      <td>2016-04-15</td>\n",
       "      <td>17897.46</td>\n",
       "    </tr>\n",
       "    <tr>\n",
       "      <th>1</th>\n",
       "      <td>2016-04-14</td>\n",
       "      <td>17926.43</td>\n",
       "    </tr>\n",
       "    <tr>\n",
       "      <th>2</th>\n",
       "      <td>2016-04-13</td>\n",
       "      <td>17908.28</td>\n",
       "    </tr>\n",
       "    <tr>\n",
       "      <th>3</th>\n",
       "      <td>2016-04-12</td>\n",
       "      <td>17721.25</td>\n",
       "    </tr>\n",
       "    <tr>\n",
       "      <th>4</th>\n",
       "      <td>2016-04-11</td>\n",
       "      <td>17556.41</td>\n",
       "    </tr>\n",
       "  </tbody>\n",
       "</table>\n",
       "</div>"
      ],
      "text/plain": [
       "         Date      DJIA\n",
       "0  2016-04-15  17897.46\n",
       "1  2016-04-14  17926.43\n",
       "2  2016-04-13  17908.28\n",
       "3  2016-04-12  17721.25\n",
       "4  2016-04-11  17556.41"
      ]
     },
     "execution_count": 27,
     "metadata": {},
     "output_type": "execute_result"
    }
   ],
   "source": [
    "djia.head()"
   ]
  },
  {
   "cell_type": "code",
   "execution_count": 54,
   "metadata": {},
   "outputs": [],
   "source": [
    "def import_process_stock(stock): #Stock is a stock code string\n",
    "    \"\"\"Uploads the data from Quandl and runs through the various \n",
    "        processes to get the data we want adjusted for inflation. \n",
    "        once data is processed it saves to a .csv and returns data in a dataframe\n",
    "        if local .csv of stock data exists it returns that data as a dataframe\"\"\"\n",
    "\n",
    "#     if os.path.isfile(\"data/\"+stock+\".csv\"):\n",
    "#         df= pd.read_csv(\"data/\"+stock+\".csv\")\n",
    "#         return df\n",
    "    \n",
    "    df = quandl.get((\"WIKI/\"+stock), api_key=quandel_key)\n",
    "#     - keep the Open, High, Low, Close, Volume, Ex-Dividend for each stock in the dataframe\n",
    "    df = df[['Open','High','Low','Close','Volume','Ex-Dividend']]\n",
    "    #Import first 261 days \n",
    "#     (1 fiscal year) of stock prices for each stock\n",
    "    df = df.iloc[:261]   \n",
    "    #Bring the timeserise index into the datafraem\n",
    "    df=df.reset_index()\n",
    "    #Add day and month numbers to time serise\n",
    "    df['d_number'] = range(1, len(df)+1)\n",
    "#   create a column to isolate the month for seasionality\n",
    "    df['Year'], df['Month'] = 0,0\n",
    "    my_data_dict = {\"years\": list(),\n",
    "                    \"months\": list()}\n",
    "    \n",
    "    for item in df[\"Date\"]:\n",
    "        my_data_dict[\"years\"].append(int(item.year))\n",
    "        my_data_dict[\"months\"].append(int(item.month))\n",
    "\n",
    "    df[\"Year\"] = my_data_dict[\"years\"]\n",
    "    df[\"Month\"] = my_data_dict[\"months\"]\n",
    "\n",
    "    #improt DJIA data:\n",
    "    df.Date = df.Date.dt.strftime('%Y-%m-%d')\n",
    "    df = df.merge(djia, how='outer', on='Date')\n",
    "    df = df.iloc[:261] \n",
    "\n",
    "    # Adjust for inflation using Consumer Price Index\n",
    "    inflated_closing_vals = list()\n",
    "    inflated_high_vals = list()\n",
    "    inflated_low_vals= list()\n",
    "    \n",
    "    for index, year in enumerate(df[\"Year\"].astype(int)):\n",
    "        inflated_closing_vals.append(round(cpi.inflate(df[\"Close\"].iloc[index], year, to=2018), 2))\n",
    "        inflated_high_vals.append(round(cpi.inflate(df[\"High\"].iloc[index], year, to=2018), 2))\n",
    "        inflated_low_vals.append(round(cpi.inflate(df[\"Low\"].iloc[index], year, to=2018), 2))\n",
    "        \n",
    "    df[\"inflated_close\"] = inflated_closing_vals\n",
    "    df[\"inflated_high\"] = inflated_high_vals\n",
    "    df[\"inflated_low\"] = inflated_low_vals\n",
    "\n",
    "    #convert stuff to int\n",
    "    df[\"Year\"] = df[\"Year\"].astype(int)\n",
    "    df[\"Month\"] = df[\"Month\"].astype(int)\n",
    "    df[\"d_number\"] = df[\"d_number\"].astype(int)\n",
    "    df[\"Volume\"] = df[\"Volume\"].astype(int)\n",
    "\n",
    "    # rearange table\n",
    "    df=df[[\"Date\",\"d_number\", \"Month\", \"Year\", \"Volume\", \"DJIA\",\"Close\",\"inflated_close\", \n",
    "           \"inflated_high\", \"inflated_low\"]]\n",
    "#     - Save to a .csv in the /data directory\n",
    "    df.to_csv(\"data/\"+stock+\".csv\")\n",
    "\n",
    "\n",
    "    return df"
   ]
  },
  {
   "cell_type": "code",
   "execution_count": 55,
   "metadata": {},
   "outputs": [
    {
     "data": {
      "text/html": [
       "<div>\n",
       "<style scoped>\n",
       "    .dataframe tbody tr th:only-of-type {\n",
       "        vertical-align: middle;\n",
       "    }\n",
       "\n",
       "    .dataframe tbody tr th {\n",
       "        vertical-align: top;\n",
       "    }\n",
       "\n",
       "    .dataframe thead th {\n",
       "        text-align: right;\n",
       "    }\n",
       "</style>\n",
       "<table border=\"1\" class=\"dataframe\">\n",
       "  <thead>\n",
       "    <tr style=\"text-align: right;\">\n",
       "      <th></th>\n",
       "      <th>Date</th>\n",
       "      <th>d_number</th>\n",
       "      <th>Month</th>\n",
       "      <th>Year</th>\n",
       "      <th>Volume</th>\n",
       "      <th>DJIA</th>\n",
       "      <th>Close</th>\n",
       "      <th>inflated_close</th>\n",
       "      <th>inflated_high</th>\n",
       "      <th>inflated_low</th>\n",
       "    </tr>\n",
       "  </thead>\n",
       "  <tbody>\n",
       "    <tr>\n",
       "      <th>0</th>\n",
       "      <td>2013-11-07</td>\n",
       "      <td>1</td>\n",
       "      <td>11</td>\n",
       "      <td>2013</td>\n",
       "      <td>117701600</td>\n",
       "      <td>15593.98</td>\n",
       "      <td>44.90</td>\n",
       "      <td>48.40</td>\n",
       "      <td>53.99</td>\n",
       "      <td>47.43</td>\n",
       "    </tr>\n",
       "    <tr>\n",
       "      <th>1</th>\n",
       "      <td>2013-11-08</td>\n",
       "      <td>2</td>\n",
       "      <td>11</td>\n",
       "      <td>2013</td>\n",
       "      <td>27925300</td>\n",
       "      <td>15761.78</td>\n",
       "      <td>41.65</td>\n",
       "      <td>44.90</td>\n",
       "      <td>50.60</td>\n",
       "      <td>43.86</td>\n",
       "    </tr>\n",
       "    <tr>\n",
       "      <th>2</th>\n",
       "      <td>2013-11-11</td>\n",
       "      <td>3</td>\n",
       "      <td>11</td>\n",
       "      <td>2013</td>\n",
       "      <td>16113900</td>\n",
       "      <td>15783.10</td>\n",
       "      <td>42.90</td>\n",
       "      <td>46.24</td>\n",
       "      <td>46.35</td>\n",
       "      <td>42.47</td>\n",
       "    </tr>\n",
       "    <tr>\n",
       "      <th>3</th>\n",
       "      <td>2013-11-12</td>\n",
       "      <td>4</td>\n",
       "      <td>11</td>\n",
       "      <td>2013</td>\n",
       "      <td>6316700</td>\n",
       "      <td>15750.67</td>\n",
       "      <td>41.90</td>\n",
       "      <td>45.16</td>\n",
       "      <td>47.19</td>\n",
       "      <td>45.09</td>\n",
       "    </tr>\n",
       "    <tr>\n",
       "      <th>4</th>\n",
       "      <td>2013-11-13</td>\n",
       "      <td>5</td>\n",
       "      <td>11</td>\n",
       "      <td>2013</td>\n",
       "      <td>8688300</td>\n",
       "      <td>15821.63</td>\n",
       "      <td>42.60</td>\n",
       "      <td>45.92</td>\n",
       "      <td>46.21</td>\n",
       "      <td>43.94</td>\n",
       "    </tr>\n",
       "  </tbody>\n",
       "</table>\n",
       "</div>"
      ],
      "text/plain": [
       "         Date  d_number  Month  Year     Volume      DJIA  Close  \\\n",
       "0  2013-11-07         1     11  2013  117701600  15593.98  44.90   \n",
       "1  2013-11-08         2     11  2013   27925300  15761.78  41.65   \n",
       "2  2013-11-11         3     11  2013   16113900  15783.10  42.90   \n",
       "3  2013-11-12         4     11  2013    6316700  15750.67  41.90   \n",
       "4  2013-11-13         5     11  2013    8688300  15821.63  42.60   \n",
       "\n",
       "   inflated_close  inflated_high  inflated_low  \n",
       "0           48.40          53.99         47.43  \n",
       "1           44.90          50.60         43.86  \n",
       "2           46.24          46.35         42.47  \n",
       "3           45.16          47.19         45.09  \n",
       "4           45.92          46.21         43.94  "
      ]
     },
     "execution_count": 55,
     "metadata": {},
     "output_type": "execute_result"
    }
   ],
   "source": [
    "test = import_process_stock(tech_index[0])\n",
    "test.head()"
   ]
  },
  {
   "cell_type": "code",
   "execution_count": 78,
   "metadata": {},
   "outputs": [
    {
     "data": {
      "text/plain": [
       "array([0.])"
      ]
     },
     "execution_count": 78,
     "metadata": {},
     "output_type": "execute_result"
    }
   ],
   "source": [
    "tester = []\n",
    "for index, year in enumerate(test[\"Year\"].astype(int)):\n",
    "    tester.append(round(cpi.inflate(test[\"Close\"].iloc[index], year, to=2018),2))\n",
    "    \n",
    "test['tester'] = tester\n",
    "test['correct']= test['tester']- test['inflated_close']\n",
    "\n",
    "#should return 0\n",
    "test['correct'].unique()"
   ]
  },
  {
   "cell_type": "code",
   "execution_count": 51,
   "metadata": {},
   "outputs": [
    {
     "data": {
      "text/plain": [
       "Date              261\n",
       "d_number          261\n",
       "Month             261\n",
       "Year              261\n",
       "Volume            261\n",
       "DJIA              261\n",
       "inflated_close    261\n",
       "inflated_high     261\n",
       "inflated_low      261\n",
       "dtype: int64"
      ]
     },
     "execution_count": 51,
     "metadata": {},
     "output_type": "execute_result"
    }
   ],
   "source": [
    "test.count()"
   ]
  },
  {
   "cell_type": "markdown",
   "metadata": {},
   "source": [
    "1. Create Sets to Hold Unique Dates for Both Sub-DFs\n",
    "2. Check How Many Dates Overlap Using Subset Matching"
   ]
  },
  {
   "cell_type": "markdown",
   "metadata": {},
   "source": [
    "## ISSUE: Date Types are Different Across Subsets Causing Incorrect Set Mismatch!"
   ]
  },
  {
   "cell_type": "code",
   "execution_count": null,
   "metadata": {},
   "outputs": [],
   "source": [
    "# should return set of len > 0 (exp. ~261)\n",
    "subset_dates = djia_unique_dates.intersection(test_unique_dates)\n",
    "\n",
    "djia_subset = djia[djia[\"Date\"] in subset_dates]"
   ]
  },
  {
   "cell_type": "code",
   "execution_count": 79,
   "metadata": {},
   "outputs": [],
   "source": [
    "# attempting to turn nasty Timestamps into nice strings\n",
    "# # WARNING: ONLY RUN ONCE IF FEATURE DATA IS IN TYPE `pd.DateTime64`\n",
    "\n",
    "# test.Date = test.Date.dt.strftime('%Y-%m-%d')\n",
    "\n",
    "# pd.merge(df2, df1, how='outer', on='month')\n",
    "\n",
    "# test.merge(djia, how='outer', on='Date')\n",
    "\n",
    "# year = 2018\n",
    "\n",
    "# test['inflated']= cpi.inflate(1,year, to=2018)"
   ]
  },
  {
   "cell_type": "markdown",
   "metadata": {},
   "source": [
    "### GOAL: Isolate `Month` and `Year` from `pd.Timestamp` objects!"
   ]
  },
  {
   "cell_type": "markdown",
   "metadata": {},
   "source": [
    "NOTE: Can be improved (three for loops === **BAD**). \n",
    "\n",
    "Can use iterator/generator or improved list comp?"
   ]
  },
  {
   "cell_type": "code",
   "execution_count": null,
   "metadata": {},
   "outputs": [],
   "source": [
    "# my_data_dict = {\"years\": list(),\n",
    "#                 \"months\": list()}\n",
    "\n",
    "# for item in test[\"Date\"]:\n",
    "#     my_data_dict[\"years\"].append(item.year)\n",
    "#     my_data_dict[\"months\"].append(item.month)\n",
    "\n",
    "# test[\"Year\"] = my_data_dict[\"years\"]\n",
    "# test[\"Month\"] = my_data_dict[\"months\"]"
   ]
  },
  {
   "cell_type": "code",
   "execution_count": null,
   "metadata": {
    "scrolled": true
   },
   "outputs": [],
   "source": [
    "test.head()"
   ]
  },
  {
   "cell_type": "code",
   "execution_count": null,
   "metadata": {},
   "outputs": [],
   "source": [
    "test.describe()"
   ]
  },
  {
   "cell_type": "code",
   "execution_count": null,
   "metadata": {},
   "outputs": [],
   "source": [
    "def graph_df(df):\n",
    "    \"\"\"\"Graphs the closeing prie of a DF\"\"\"\n",
    "    df[\"Close\"].plot()\n",
    "    plt.legend(loc=4)\n",
    "    plt.xlabel('Date')\n",
    "    plt.ylabel('Price')\n",
    "    plt.show()\n",
    "    \n",
    "    ##WHY THE FUCK IS IT PLOTING THE D_NUMBER INSTED OF DATE? WHAT THE FLYING FUCK!!"
   ]
  },
  {
   "cell_type": "code",
   "execution_count": null,
   "metadata": {},
   "outputs": [],
   "source": []
  }
 ],
 "metadata": {
  "kernelspec": {
   "display_name": "Python 3",
   "language": "python",
   "name": "python3"
  },
  "language_info": {
   "codemirror_mode": {
    "name": "ipython",
    "version": 3
   },
   "file_extension": ".py",
   "mimetype": "text/x-python",
   "name": "python",
   "nbconvert_exporter": "python",
   "pygments_lexer": "ipython3",
   "version": "3.7.3"
  }
 },
 "nbformat": 4,
 "nbformat_minor": 2
}
